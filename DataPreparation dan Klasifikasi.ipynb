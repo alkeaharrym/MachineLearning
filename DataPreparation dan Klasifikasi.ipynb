{
 "cells": [
  {
   "cell_type": "markdown",
   "metadata": {},
   "source": [
    "## Classification (ComplementNB dan Logistic Regression)"
   ]
  },
  {
   "cell_type": "code",
   "execution_count": 1,
   "metadata": {
    "scrolled": true
   },
   "outputs": [],
   "source": [
    "import numpy as np\n",
    "import matplotlib.pyplot as plt\n",
    "import pandas as pd\n",
    "import random as ran\n",
    "import seaborn as sns\n",
    "dataset = pd.read_csv('fifa20.csv')"
   ]
  },
  {
   "cell_type": "markdown",
   "metadata": {},
   "source": [
    "### Data preparation"
   ]
  },
  {
   "cell_type": "code",
   "execution_count": 2,
   "metadata": {},
   "outputs": [
    {
     "name": "stdout",
     "output_type": "stream",
     "text": [
      "Jumlam data lama = (18278, 8)\n"
     ]
    }
   ],
   "source": [
    "#Memilih feature yang akan digunakan\n",
    "dataset = pd.DataFrame(dataset, columns=['sofifa_id','short_name','age','overall','potential', 'value_eur', 'wage_eur','international_reputation'])\n",
    "\n",
    "#jumlah data lama\n",
    "print('Jumlam data lama =',dataset.shape)"
   ]
  },
  {
   "cell_type": "code",
   "execution_count": 3,
   "metadata": {},
   "outputs": [
    {
     "data": {
      "text/html": [
       "<div>\n",
       "<style scoped>\n",
       "    .dataframe tbody tr th:only-of-type {\n",
       "        vertical-align: middle;\n",
       "    }\n",
       "\n",
       "    .dataframe tbody tr th {\n",
       "        vertical-align: top;\n",
       "    }\n",
       "\n",
       "    .dataframe thead th {\n",
       "        text-align: right;\n",
       "    }\n",
       "</style>\n",
       "<table border=\"1\" class=\"dataframe\">\n",
       "  <thead>\n",
       "    <tr style=\"text-align: right;\">\n",
       "      <th></th>\n",
       "      <th>sofifa_id</th>\n",
       "      <th>age</th>\n",
       "      <th>overall</th>\n",
       "      <th>potential</th>\n",
       "      <th>value_eur</th>\n",
       "      <th>wage_eur</th>\n",
       "      <th>international_reputation</th>\n",
       "    </tr>\n",
       "  </thead>\n",
       "  <tbody>\n",
       "    <tr>\n",
       "      <td>count</td>\n",
       "      <td>18278.000000</td>\n",
       "      <td>18278.000000</td>\n",
       "      <td>18278.000000</td>\n",
       "      <td>18278.000000</td>\n",
       "      <td>1.827800e+04</td>\n",
       "      <td>18278.000000</td>\n",
       "      <td>18278.000000</td>\n",
       "    </tr>\n",
       "    <tr>\n",
       "      <td>mean</td>\n",
       "      <td>219738.864482</td>\n",
       "      <td>25.283291</td>\n",
       "      <td>66.244994</td>\n",
       "      <td>71.546887</td>\n",
       "      <td>2.484038e+06</td>\n",
       "      <td>9456.942773</td>\n",
       "      <td>1.103184</td>\n",
       "    </tr>\n",
       "    <tr>\n",
       "      <td>std</td>\n",
       "      <td>27960.200461</td>\n",
       "      <td>4.656964</td>\n",
       "      <td>6.949953</td>\n",
       "      <td>6.139669</td>\n",
       "      <td>5.585481e+06</td>\n",
       "      <td>21351.714095</td>\n",
       "      <td>0.378861</td>\n",
       "    </tr>\n",
       "    <tr>\n",
       "      <td>min</td>\n",
       "      <td>768.000000</td>\n",
       "      <td>16.000000</td>\n",
       "      <td>48.000000</td>\n",
       "      <td>49.000000</td>\n",
       "      <td>0.000000e+00</td>\n",
       "      <td>0.000000</td>\n",
       "      <td>1.000000</td>\n",
       "    </tr>\n",
       "    <tr>\n",
       "      <td>25%</td>\n",
       "      <td>204445.500000</td>\n",
       "      <td>22.000000</td>\n",
       "      <td>62.000000</td>\n",
       "      <td>67.000000</td>\n",
       "      <td>3.250000e+05</td>\n",
       "      <td>1000.000000</td>\n",
       "      <td>1.000000</td>\n",
       "    </tr>\n",
       "    <tr>\n",
       "      <td>50%</td>\n",
       "      <td>226165.000000</td>\n",
       "      <td>25.000000</td>\n",
       "      <td>66.000000</td>\n",
       "      <td>71.000000</td>\n",
       "      <td>7.000000e+05</td>\n",
       "      <td>3000.000000</td>\n",
       "      <td>1.000000</td>\n",
       "    </tr>\n",
       "    <tr>\n",
       "      <td>75%</td>\n",
       "      <td>240795.750000</td>\n",
       "      <td>29.000000</td>\n",
       "      <td>71.000000</td>\n",
       "      <td>75.000000</td>\n",
       "      <td>2.100000e+06</td>\n",
       "      <td>8000.000000</td>\n",
       "      <td>1.000000</td>\n",
       "    </tr>\n",
       "    <tr>\n",
       "      <td>max</td>\n",
       "      <td>252905.000000</td>\n",
       "      <td>42.000000</td>\n",
       "      <td>94.000000</td>\n",
       "      <td>95.000000</td>\n",
       "      <td>1.055000e+08</td>\n",
       "      <td>565000.000000</td>\n",
       "      <td>5.000000</td>\n",
       "    </tr>\n",
       "  </tbody>\n",
       "</table>\n",
       "</div>"
      ],
      "text/plain": [
       "           sofifa_id           age       overall     potential     value_eur  \\\n",
       "count   18278.000000  18278.000000  18278.000000  18278.000000  1.827800e+04   \n",
       "mean   219738.864482     25.283291     66.244994     71.546887  2.484038e+06   \n",
       "std     27960.200461      4.656964      6.949953      6.139669  5.585481e+06   \n",
       "min       768.000000     16.000000     48.000000     49.000000  0.000000e+00   \n",
       "25%    204445.500000     22.000000     62.000000     67.000000  3.250000e+05   \n",
       "50%    226165.000000     25.000000     66.000000     71.000000  7.000000e+05   \n",
       "75%    240795.750000     29.000000     71.000000     75.000000  2.100000e+06   \n",
       "max    252905.000000     42.000000     94.000000     95.000000  1.055000e+08   \n",
       "\n",
       "            wage_eur  international_reputation  \n",
       "count   18278.000000              18278.000000  \n",
       "mean     9456.942773                  1.103184  \n",
       "std     21351.714095                  0.378861  \n",
       "min         0.000000                  1.000000  \n",
       "25%      1000.000000                  1.000000  \n",
       "50%      3000.000000                  1.000000  \n",
       "75%      8000.000000                  1.000000  \n",
       "max    565000.000000                  5.000000  "
      ]
     },
     "execution_count": 3,
     "metadata": {},
     "output_type": "execute_result"
    }
   ],
   "source": [
    "#Mengecek apakah data ada yang miss, dengan melihat jumlah count ada yang missing atau tidak\n",
    "df2 = dataset[['sofifa_id','short_name','age','overall','potential', 'value_eur', 'wage_eur','international_reputation']]\n",
    "df2.describe()"
   ]
  },
  {
   "cell_type": "code",
   "execution_count": 4,
   "metadata": {},
   "outputs": [],
   "source": [
    "# Mengubah 5 label international_popularity menjadi 3 label rate\n",
    "def rate(x):\n",
    "    if x >= 4:\n",
    "        x = 'High'\n",
    "    elif x >= 2:\n",
    "        x = 'Mid'\n",
    "    elif x <= 1:\n",
    "        x = 'Low'\n",
    "    return x"
   ]
  },
  {
   "cell_type": "code",
   "execution_count": 5,
   "metadata": {},
   "outputs": [],
   "source": [
    "# Memasukkan label rate ke dataframe\n",
    "# Load sedikit lama\n",
    "a = dataset['sofifa_id'].count()\n",
    "for i in range(a):\n",
    "    df2.loc[i, 'rate'] = rate(dataset.loc[i, 'international_reputation'])"
   ]
  },
  {
   "cell_type": "code",
   "execution_count": 6,
   "metadata": {},
   "outputs": [
    {
     "data": {
      "text/html": [
       "<div>\n",
       "<style scoped>\n",
       "    .dataframe tbody tr th:only-of-type {\n",
       "        vertical-align: middle;\n",
       "    }\n",
       "\n",
       "    .dataframe tbody tr th {\n",
       "        vertical-align: top;\n",
       "    }\n",
       "\n",
       "    .dataframe thead th {\n",
       "        text-align: right;\n",
       "    }\n",
       "</style>\n",
       "<table border=\"1\" class=\"dataframe\">\n",
       "  <thead>\n",
       "    <tr style=\"text-align: right;\">\n",
       "      <th></th>\n",
       "      <th>sofifa_id</th>\n",
       "      <th>short_name</th>\n",
       "      <th>age</th>\n",
       "      <th>overall</th>\n",
       "      <th>potential</th>\n",
       "      <th>value_eur</th>\n",
       "      <th>wage_eur</th>\n",
       "      <th>rate</th>\n",
       "    </tr>\n",
       "    <tr>\n",
       "      <th>international_reputation</th>\n",
       "      <th></th>\n",
       "      <th></th>\n",
       "      <th></th>\n",
       "      <th></th>\n",
       "      <th></th>\n",
       "      <th></th>\n",
       "      <th></th>\n",
       "      <th></th>\n",
       "    </tr>\n",
       "  </thead>\n",
       "  <tbody>\n",
       "    <tr>\n",
       "      <td>1</td>\n",
       "      <td>16794</td>\n",
       "      <td>16794</td>\n",
       "      <td>16794</td>\n",
       "      <td>16794</td>\n",
       "      <td>16794</td>\n",
       "      <td>16794</td>\n",
       "      <td>16794</td>\n",
       "      <td>16794</td>\n",
       "    </tr>\n",
       "    <tr>\n",
       "      <td>2</td>\n",
       "      <td>1140</td>\n",
       "      <td>1140</td>\n",
       "      <td>1140</td>\n",
       "      <td>1140</td>\n",
       "      <td>1140</td>\n",
       "      <td>1140</td>\n",
       "      <td>1140</td>\n",
       "      <td>1140</td>\n",
       "    </tr>\n",
       "    <tr>\n",
       "      <td>3</td>\n",
       "      <td>292</td>\n",
       "      <td>292</td>\n",
       "      <td>292</td>\n",
       "      <td>292</td>\n",
       "      <td>292</td>\n",
       "      <td>292</td>\n",
       "      <td>292</td>\n",
       "      <td>292</td>\n",
       "    </tr>\n",
       "    <tr>\n",
       "      <td>4</td>\n",
       "      <td>46</td>\n",
       "      <td>46</td>\n",
       "      <td>46</td>\n",
       "      <td>46</td>\n",
       "      <td>46</td>\n",
       "      <td>46</td>\n",
       "      <td>46</td>\n",
       "      <td>46</td>\n",
       "    </tr>\n",
       "    <tr>\n",
       "      <td>5</td>\n",
       "      <td>6</td>\n",
       "      <td>6</td>\n",
       "      <td>6</td>\n",
       "      <td>6</td>\n",
       "      <td>6</td>\n",
       "      <td>6</td>\n",
       "      <td>6</td>\n",
       "      <td>6</td>\n",
       "    </tr>\n",
       "  </tbody>\n",
       "</table>\n",
       "</div>"
      ],
      "text/plain": [
       "                          sofifa_id  short_name    age  overall  potential  \\\n",
       "international_reputation                                                     \n",
       "1                             16794       16794  16794    16794      16794   \n",
       "2                              1140        1140   1140     1140       1140   \n",
       "3                               292         292    292      292        292   \n",
       "4                                46          46     46       46         46   \n",
       "5                                 6           6      6        6          6   \n",
       "\n",
       "                          value_eur  wage_eur   rate  \n",
       "international_reputation                              \n",
       "1                             16794     16794  16794  \n",
       "2                              1140      1140   1140  \n",
       "3                               292       292    292  \n",
       "4                                46        46     46  \n",
       "5                                 6         6      6  "
      ]
     },
     "execution_count": 6,
     "metadata": {},
     "output_type": "execute_result"
    }
   ],
   "source": [
    "# Mengecek jumlah data pada label\n",
    "# df2.groupby('international_reputation').count()\n",
    "df2.groupby('international_reputation').count()"
   ]
  },
  {
   "cell_type": "code",
   "execution_count": 7,
   "metadata": {},
   "outputs": [
    {
     "data": {
      "text/html": [
       "<div>\n",
       "<style scoped>\n",
       "    .dataframe tbody tr th:only-of-type {\n",
       "        vertical-align: middle;\n",
       "    }\n",
       "\n",
       "    .dataframe tbody tr th {\n",
       "        vertical-align: top;\n",
       "    }\n",
       "\n",
       "    .dataframe thead th {\n",
       "        text-align: right;\n",
       "    }\n",
       "</style>\n",
       "<table border=\"1\" class=\"dataframe\">\n",
       "  <thead>\n",
       "    <tr style=\"text-align: right;\">\n",
       "      <th></th>\n",
       "      <th>sofifa_id</th>\n",
       "      <th>short_name</th>\n",
       "      <th>age</th>\n",
       "      <th>overall</th>\n",
       "      <th>potential</th>\n",
       "      <th>value_eur</th>\n",
       "      <th>wage_eur</th>\n",
       "      <th>international_reputation</th>\n",
       "    </tr>\n",
       "    <tr>\n",
       "      <th>rate</th>\n",
       "      <th></th>\n",
       "      <th></th>\n",
       "      <th></th>\n",
       "      <th></th>\n",
       "      <th></th>\n",
       "      <th></th>\n",
       "      <th></th>\n",
       "      <th></th>\n",
       "    </tr>\n",
       "  </thead>\n",
       "  <tbody>\n",
       "    <tr>\n",
       "      <td>High</td>\n",
       "      <td>52</td>\n",
       "      <td>52</td>\n",
       "      <td>52</td>\n",
       "      <td>52</td>\n",
       "      <td>52</td>\n",
       "      <td>52</td>\n",
       "      <td>52</td>\n",
       "      <td>52</td>\n",
       "    </tr>\n",
       "    <tr>\n",
       "      <td>Low</td>\n",
       "      <td>16794</td>\n",
       "      <td>16794</td>\n",
       "      <td>16794</td>\n",
       "      <td>16794</td>\n",
       "      <td>16794</td>\n",
       "      <td>16794</td>\n",
       "      <td>16794</td>\n",
       "      <td>16794</td>\n",
       "    </tr>\n",
       "    <tr>\n",
       "      <td>Mid</td>\n",
       "      <td>1432</td>\n",
       "      <td>1432</td>\n",
       "      <td>1432</td>\n",
       "      <td>1432</td>\n",
       "      <td>1432</td>\n",
       "      <td>1432</td>\n",
       "      <td>1432</td>\n",
       "      <td>1432</td>\n",
       "    </tr>\n",
       "  </tbody>\n",
       "</table>\n",
       "</div>"
      ],
      "text/plain": [
       "      sofifa_id  short_name    age  overall  potential  value_eur  wage_eur  \\\n",
       "rate                                                                          \n",
       "High         52          52     52       52         52         52        52   \n",
       "Low       16794       16794  16794    16794      16794      16794     16794   \n",
       "Mid        1432        1432   1432     1432       1432       1432      1432   \n",
       "\n",
       "      international_reputation  \n",
       "rate                            \n",
       "High                        52  \n",
       "Low                      16794  \n",
       "Mid                       1432  "
      ]
     },
     "execution_count": 7,
     "metadata": {},
     "output_type": "execute_result"
    }
   ],
   "source": [
    "df2.groupby('rate').count()"
   ]
  },
  {
   "cell_type": "markdown",
   "metadata": {},
   "source": [
    "### Data Cleansing"
   ]
  },
  {
   "cell_type": "code",
   "execution_count": 8,
   "metadata": {},
   "outputs": [
    {
     "name": "stdout",
     "output_type": "stream",
     "text": [
      "Jumlah data baru = (18028, 9)\n"
     ]
    }
   ],
   "source": [
    "# Menghapus Missing Data\n",
    "df2.dropna()\n",
    "df2 = df2[(df2[['age', 'overall','potential', 'value_eur', 'wage_eur','international_reputation']] > 0).all(axis=1)] \n",
    "\n",
    "#jumlah data baru setelah di cleansing\n",
    "print('Jumlah data baru =',df2.shape)"
   ]
  },
  {
   "cell_type": "code",
   "execution_count": 9,
   "metadata": {},
   "outputs": [
    {
     "name": "stdout",
     "output_type": "stream",
     "text": [
      "sofifa_id                   0\n",
      "short_name                  0\n",
      "age                         0\n",
      "overall                     0\n",
      "potential                   0\n",
      "value_eur                   0\n",
      "wage_eur                    0\n",
      "international_reputation    0\n",
      "rate                        0\n",
      "dtype: int64\n",
      "<class 'pandas.core.frame.DataFrame'>\n",
      "Int64Index: 18028 entries, 0 to 18277\n",
      "Data columns (total 9 columns):\n",
      "sofifa_id                   18028 non-null int64\n",
      "short_name                  18028 non-null object\n",
      "age                         18028 non-null int64\n",
      "overall                     18028 non-null int64\n",
      "potential                   18028 non-null int64\n",
      "value_eur                   18028 non-null int64\n",
      "wage_eur                    18028 non-null int64\n",
      "international_reputation    18028 non-null int64\n",
      "rate                        18028 non-null object\n",
      "dtypes: int64(7), object(2)\n",
      "memory usage: 1.4+ MB\n",
      "None\n"
     ]
    }
   ],
   "source": [
    "# Mengecek apakah jumlah row data sudah sama dan tidak ada yang null\n",
    "print(df2.isnull().sum())\n",
    "print(df2.info())"
   ]
  },
  {
   "cell_type": "markdown",
   "metadata": {},
   "source": [
    "### Data Correlation"
   ]
  },
  {
   "cell_type": "code",
   "execution_count": 10,
   "metadata": {},
   "outputs": [
    {
     "data": {
      "text/html": [
       "<div>\n",
       "<style scoped>\n",
       "    .dataframe tbody tr th:only-of-type {\n",
       "        vertical-align: middle;\n",
       "    }\n",
       "\n",
       "    .dataframe tbody tr th {\n",
       "        vertical-align: top;\n",
       "    }\n",
       "\n",
       "    .dataframe thead th {\n",
       "        text-align: right;\n",
       "    }\n",
       "</style>\n",
       "<table border=\"1\" class=\"dataframe\">\n",
       "  <thead>\n",
       "    <tr style=\"text-align: right;\">\n",
       "      <th></th>\n",
       "      <th>sofifa_id</th>\n",
       "      <th>age</th>\n",
       "      <th>overall</th>\n",
       "      <th>potential</th>\n",
       "      <th>value_eur</th>\n",
       "      <th>wage_eur</th>\n",
       "      <th>international_reputation</th>\n",
       "    </tr>\n",
       "  </thead>\n",
       "  <tbody>\n",
       "    <tr>\n",
       "      <td>sofifa_id</td>\n",
       "      <td>1.000000</td>\n",
       "      <td>-0.747363</td>\n",
       "      <td>-0.452405</td>\n",
       "      <td>0.042705</td>\n",
       "      <td>-0.162178</td>\n",
       "      <td>-0.230808</td>\n",
       "      <td>-0.359883</td>\n",
       "    </tr>\n",
       "    <tr>\n",
       "      <td>age</td>\n",
       "      <td>-0.747363</td>\n",
       "      <td>1.000000</td>\n",
       "      <td>0.466421</td>\n",
       "      <td>-0.262867</td>\n",
       "      <td>0.088118</td>\n",
       "      <td>0.158031</td>\n",
       "      <td>0.259387</td>\n",
       "    </tr>\n",
       "    <tr>\n",
       "      <td>overall</td>\n",
       "      <td>-0.452405</td>\n",
       "      <td>0.466421</td>\n",
       "      <td>1.000000</td>\n",
       "      <td>0.645605</td>\n",
       "      <td>0.645679</td>\n",
       "      <td>0.580355</td>\n",
       "      <td>0.478322</td>\n",
       "    </tr>\n",
       "    <tr>\n",
       "      <td>potential</td>\n",
       "      <td>0.042705</td>\n",
       "      <td>-0.262867</td>\n",
       "      <td>0.645605</td>\n",
       "      <td>1.000000</td>\n",
       "      <td>0.584658</td>\n",
       "      <td>0.478382</td>\n",
       "      <td>0.343536</td>\n",
       "    </tr>\n",
       "    <tr>\n",
       "      <td>value_eur</td>\n",
       "      <td>-0.162178</td>\n",
       "      <td>0.088118</td>\n",
       "      <td>0.645679</td>\n",
       "      <td>0.584658</td>\n",
       "      <td>1.000000</td>\n",
       "      <td>0.857719</td>\n",
       "      <td>0.624494</td>\n",
       "    </tr>\n",
       "    <tr>\n",
       "      <td>wage_eur</td>\n",
       "      <td>-0.230808</td>\n",
       "      <td>0.158031</td>\n",
       "      <td>0.580355</td>\n",
       "      <td>0.478382</td>\n",
       "      <td>0.857719</td>\n",
       "      <td>1.000000</td>\n",
       "      <td>0.658280</td>\n",
       "    </tr>\n",
       "    <tr>\n",
       "      <td>international_reputation</td>\n",
       "      <td>-0.359883</td>\n",
       "      <td>0.259387</td>\n",
       "      <td>0.478322</td>\n",
       "      <td>0.343536</td>\n",
       "      <td>0.624494</td>\n",
       "      <td>0.658280</td>\n",
       "      <td>1.000000</td>\n",
       "    </tr>\n",
       "  </tbody>\n",
       "</table>\n",
       "</div>"
      ],
      "text/plain": [
       "                          sofifa_id       age   overall  potential  value_eur  \\\n",
       "sofifa_id                  1.000000 -0.747363 -0.452405   0.042705  -0.162178   \n",
       "age                       -0.747363  1.000000  0.466421  -0.262867   0.088118   \n",
       "overall                   -0.452405  0.466421  1.000000   0.645605   0.645679   \n",
       "potential                  0.042705 -0.262867  0.645605   1.000000   0.584658   \n",
       "value_eur                 -0.162178  0.088118  0.645679   0.584658   1.000000   \n",
       "wage_eur                  -0.230808  0.158031  0.580355   0.478382   0.857719   \n",
       "international_reputation  -0.359883  0.259387  0.478322   0.343536   0.624494   \n",
       "\n",
       "                          wage_eur  international_reputation  \n",
       "sofifa_id                -0.230808                 -0.359883  \n",
       "age                       0.158031                  0.259387  \n",
       "overall                   0.580355                  0.478322  \n",
       "potential                 0.478382                  0.343536  \n",
       "value_eur                 0.857719                  0.624494  \n",
       "wage_eur                  1.000000                  0.658280  \n",
       "international_reputation  0.658280                  1.000000  "
      ]
     },
     "execution_count": 10,
     "metadata": {},
     "output_type": "execute_result"
    },
    {
     "data": {
      "image/png": "[encoded data removed]",
      "text/plain": [
       "<Figure size 648x648 with 2 Axes>"
      ]
     },
     "metadata": {},
     "output_type": "display_data"
    }
   ],
   "source": [
    "#mengecek korelasi setiap feature \n",
    "corr = df2.select_dtypes(include = ['int64', 'float64']).iloc[:,:].corr()\n",
    "sns.set_style(\"white\")\n",
    "plt.figure(figsize= (9,9))\n",
    "az = sns.heatmap(corr, vmax = 1, square =True)\n",
    "plt.xticks(rotation = 30)\n",
    "plt.yticks(rotation = 0)\n",
    "\n",
    "df2.corr()"
   ]
  },
  {
   "cell_type": "code",
   "execution_count": 11,
   "metadata": {},
   "outputs": [],
   "source": [
    "newdata = pd.DataFrame(df2, columns=['potential', 'overall', 'rate'])"
   ]
  },
  {
   "cell_type": "markdown",
   "metadata": {},
   "source": [
    "## Menyimpan data kasifikasi"
   ]
  },
  {
   "cell_type": "code",
   "execution_count": 12,
   "metadata": {},
   "outputs": [],
   "source": [
    "# Hasil Data Explorasi \n",
    "newdata.to_csv('fifa20_explore.csv')"
   ]
  },
  {
   "cell_type": "code",
   "execution_count": 13,
   "metadata": {},
   "outputs": [],
   "source": [
    "## Mengambil nilai atau values dari newdata untuk klasifikasi\n",
    "# newdf1 = np.array(pd.DataFrame(newdata, columns=['potential', 'overall']))\n",
    "# newdf2 = np.array(pd.DataFrame(newdata, columns=['rate']))\n",
    "# newdf2 = newdf2[:, 0]\n",
    "newdf1 = newdata.iloc[:, [0,1]].values\n",
    "newdf2 = newdata.iloc[:, 2].values\n"
   ]
  },
  {
   "cell_type": "markdown",
   "metadata": {},
   "source": [
    "# ComplementNB"
   ]
  },
  {
   "cell_type": "code",
   "execution_count": 14,
   "metadata": {},
   "outputs": [],
   "source": [
    "from sklearn.model_selection import train_test_split\n",
    "X_train, X_test, y_train, y_test = train_test_split(newdf1, newdf2, test_size = 0.2, random_state = 0)"
   ]
  },
  {
   "cell_type": "code",
   "execution_count": 15,
   "metadata": {},
   "outputs": [
    {
     "data": {
      "text/plain": [
       "ComplementNB(alpha=1.0, class_prior=None, fit_prior=True, norm=False)"
      ]
     },
     "execution_count": 15,
     "metadata": {},
     "output_type": "execute_result"
    }
   ],
   "source": [
    "from sklearn.naive_bayes import ComplementNB\n",
    "clf = ComplementNB()\n",
    "clf.fit(X_train, y_train)\n",
    "ComplementNB()"
   ]
  },
  {
   "cell_type": "code",
   "execution_count": 16,
   "metadata": {},
   "outputs": [],
   "source": [
    "hasil = clf.predict(X_test)"
   ]
  },
  {
   "cell_type": "code",
   "execution_count": 17,
   "metadata": {},
   "outputs": [
    {
     "name": "stdout",
     "output_type": "stream",
     "text": [
      "3606\n"
     ]
    },
    {
     "data": {
      "text/plain": [
       "array([[   0,    0,   11],\n",
       "       [   0, 1854, 1467],\n",
       "       [   0,   17,  257]], dtype=int64)"
      ]
     },
     "execution_count": 17,
     "metadata": {},
     "output_type": "execute_result"
    }
   ],
   "source": [
    "from sklearn.metrics import confusion_matrix\n",
    "matriks = confusion_matrix(y_test, hasil)\n",
    "print(sum(matriks[0] + matriks[1] +matriks[2]))\n",
    "matriks"
   ]
  },
  {
   "cell_type": "code",
   "execution_count": 18,
   "metadata": {},
   "outputs": [
    {
     "name": "stdout",
     "output_type": "stream",
     "text": [
      "Akurasi:  0.5854132002218525\n"
     ]
    }
   ],
   "source": [
    "akurasi = sum(matriks.diagonal()) / sum(matriks[0] + matriks[1] + matriks[2])\n",
    "print(\"Akurasi: \", akurasi)"
   ]
  },
  {
   "cell_type": "code",
   "execution_count": 19,
   "metadata": {},
   "outputs": [
    {
     "name": "stdout",
     "output_type": "stream",
     "text": [
      "              precision    recall  f1-score   support\n",
      "\n",
      "        High       0.00      0.00      0.00        11\n",
      "         Low       0.99      0.56      0.71      3321\n",
      "         Mid       0.15      0.94      0.26       274\n",
      "\n",
      "    accuracy                           0.59      3606\n",
      "   macro avg       0.38      0.50      0.32      3606\n",
      "weighted avg       0.92      0.59      0.68      3606\n",
      "\n"
     ]
    },
    {
     "name": "stderr",
     "output_type": "stream",
     "text": [
      "C:\\Users\\FX553VD\\Anaconda3\\lib\\site-packages\\sklearn\\metrics\\classification.py:1437: UndefinedMetricWarning: Precision and F-score are ill-defined and being set to 0.0 in labels with no predicted samples.\n",
      "  'precision', 'predicted', average, warn_for)\n"
     ]
    }
   ],
   "source": [
    "from sklearn.metrics import classification_report\n",
    "print(classification_report(y_test, hasil))"
   ]
  },
  {
   "cell_type": "markdown",
   "metadata": {},
   "source": [
    "## Logistic regression"
   ]
  },
  {
   "cell_type": "code",
   "execution_count": 20,
   "metadata": {},
   "outputs": [],
   "source": [
    "from sklearn.model_selection import train_test_split\n",
    "X_train, X_test, y_train, y_test = train_test_split(newdf1, newdf2, test_size = 0.2, random_state = 0)"
   ]
  },
  {
   "cell_type": "code",
   "execution_count": 21,
   "metadata": {},
   "outputs": [],
   "source": [
    "# # Feature Scaling\n",
    "from sklearn.preprocessing import StandardScaler\n",
    "sc = StandardScaler()\n",
    "X_train = sc.fit_transform(X_train)\n",
    "X_test = sc.transform(X_test)\n",
    "\n"
   ]
  },
  {
   "cell_type": "code",
   "execution_count": 22,
   "metadata": {},
   "outputs": [
    {
     "name": "stderr",
     "output_type": "stream",
     "text": [
      "C:\\Users\\FX553VD\\Anaconda3\\lib\\site-packages\\sklearn\\linear_model\\logistic.py:432: FutureWarning: Default solver will be changed to 'lbfgs' in 0.22. Specify a solver to silence this warning.\n",
      "  FutureWarning)\n",
      "C:\\Users\\FX553VD\\Anaconda3\\lib\\site-packages\\sklearn\\linear_model\\logistic.py:469: FutureWarning: Default multi_class will be changed to 'auto' in 0.22. Specify the multi_class option to silence this warning.\n",
      "  \"this warning.\", FutureWarning)\n"
     ]
    },
    {
     "data": {
      "text/plain": [
       "LogisticRegression(C=1.0, class_weight=None, dual=False, fit_intercept=True,\n",
       "                   intercept_scaling=1, l1_ratio=None, max_iter=100,\n",
       "                   multi_class='warn', n_jobs=None, penalty='l2',\n",
       "                   random_state=0, solver='warn', tol=0.0001, verbose=0,\n",
       "                   warm_start=False)"
      ]
     },
     "execution_count": 22,
     "metadata": {},
     "output_type": "execute_result"
    }
   ],
   "source": [
    "# Fitting Logistic Regression to the Training set\n",
    "from sklearn.linear_model import LogisticRegression\n",
    "classifier = LogisticRegression(random_state = 0)\n",
    "classifier.fit(X_train, y_train)\n",
    "\n"
   ]
  },
  {
   "cell_type": "code",
   "execution_count": 23,
   "metadata": {},
   "outputs": [],
   "source": [
    "hasil = classifier.predict(X_test)"
   ]
  },
  {
   "cell_type": "code",
   "execution_count": 24,
   "metadata": {},
   "outputs": [
    {
     "name": "stdout",
     "output_type": "stream",
     "text": [
      "3606\n"
     ]
    },
    {
     "data": {
      "text/plain": [
       "array([[   0,    0,   11],\n",
       "       [   0, 3273,   48],\n",
       "       [   0,  148,  126]], dtype=int64)"
      ]
     },
     "execution_count": 24,
     "metadata": {},
     "output_type": "execute_result"
    }
   ],
   "source": [
    "from sklearn.metrics import confusion_matrix\n",
    "matriks = confusion_matrix(y_test, hasil)\n",
    "print(sum(matriks[0] + matriks[1] +matriks[2]))\n",
    "matriks"
   ]
  },
  {
   "cell_type": "code",
   "execution_count": 26,
   "metadata": {},
   "outputs": [
    {
     "name": "stdout",
     "output_type": "stream",
     "text": [
      "Akurasi:  0.9425956738768719\n"
     ]
    }
   ],
   "source": [
    "akurasi = sum(matriks.diagonal()) / sum(matriks[0] + matriks[1] + matriks[2])\n",
    "print(\"Akurasi: \", akurasi)"
   ]
  },
  {
   "cell_type": "code",
   "execution_count": 27,
   "metadata": {},
   "outputs": [
    {
     "name": "stdout",
     "output_type": "stream",
     "text": [
      "              precision    recall  f1-score   support\n",
      "\n",
      "        High       0.00      0.00      0.00        11\n",
      "         Low       0.96      0.99      0.97      3321\n",
      "         Mid       0.68      0.46      0.55       274\n",
      "\n",
      "    accuracy                           0.94      3606\n",
      "   macro avg       0.55      0.48      0.51      3606\n",
      "weighted avg       0.93      0.94      0.94      3606\n",
      "\n"
     ]
    },
    {
     "name": "stderr",
     "output_type": "stream",
     "text": [
      "C:\\Users\\FX553VD\\Anaconda3\\lib\\site-packages\\sklearn\\metrics\\classification.py:1437: UndefinedMetricWarning: Precision and F-score are ill-defined and being set to 0.0 in labels with no predicted samples.\n",
      "  'precision', 'predicted', average, warn_for)\n"
     ]
    }
   ],
   "source": [
    "from sklearn.metrics import classification_report\n",
    "print(classification_report(y_test, hasil))"
   ]
  }
 ],
 "metadata": {
  "kernelspec": {
   "display_name": "Python 3",
   "language": "python",
   "name": "python3"
  },
  "language_info": {
   "codemirror_mode": {
    "name": "ipython",
    "version": 3
   },
   "file_extension": ".py",
   "mimetype": "text/x-python",
   "name": "python",
   "nbconvert_exporter": "python",
   "pygments_lexer": "ipython3",
   "version": "3.7.4"
  }
 },
 "nbformat": 4,
 "nbformat_minor": 2
}
